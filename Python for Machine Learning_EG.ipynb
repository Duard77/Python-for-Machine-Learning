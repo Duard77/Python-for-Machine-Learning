{
 "cells": [
  {
   "cell_type": "code",
   "execution_count": 1,
   "id": "b06c3969",
   "metadata": {},
   "outputs": [],
   "source": [
    "\"\"\"\"\n",
    "Using one of the three datasets to demonstrate k-means clustering using the scikit learn package (50 points). Be sure to review the readings before you start on this assignment. Calculate the sum of least square error for each different values of 'k'. Using Matplotlib determine the optimal number of clusters (k) using the elbow method along with a brief explanation (50 points) . Finally plot the optimal clusters with their centroids along with a brief explanation (50 points). Comment your code as needed.\n",
    "\"\"\"\n",
    "\n",
    "import pandas as pd\n",
    "import numpy as np\n",
    "\n",
    "import matplotlib.pyplot as plt\n",
    "\n",
    "import sklearn\n",
    "from sklearn.cluster import KMeans\n",
    "from mpl_toolkits.mplot3d import Axes3D\n",
    "from sklearn.preprocessing import scale\n",
    "\n",
    "import sklearn.metrics as sm\n",
    "from sklearn import datasets\n",
    "from sklearn.datasets import make_blobs\n",
    "from sklearn.metrics import confusion_matrix,classification_report\n",
    "\n",
    "df = pd.read_csv(\"http://archive.ics.uci.edu/ml/machine-learning-databases/breast-cancer/breast-cancer.data\",\n",
    "                names = [\"Class\", \"Age\", \"Menopause\", \"Tumor size\", \"Inv-nodes\", \"Node-caps\", \"Deg-Malig\", \"Breast\", \"Breast quad\", \"Irridiat\"])"
   ]
  },
  {
   "cell_type": "code",
   "execution_count": 2,
   "id": "7c549d77",
   "metadata": {},
   "outputs": [
    {
     "data": {
      "text/html": [
       "<div>\n",
       "<style scoped>\n",
       "    .dataframe tbody tr th:only-of-type {\n",
       "        vertical-align: middle;\n",
       "    }\n",
       "\n",
       "    .dataframe tbody tr th {\n",
       "        vertical-align: top;\n",
       "    }\n",
       "\n",
       "    .dataframe thead th {\n",
       "        text-align: right;\n",
       "    }\n",
       "</style>\n",
       "<table border=\"1\" class=\"dataframe\">\n",
       "  <thead>\n",
       "    <tr style=\"text-align: right;\">\n",
       "      <th></th>\n",
       "      <th>Class</th>\n",
       "      <th>Age</th>\n",
       "      <th>Menopause</th>\n",
       "      <th>Tumor size</th>\n",
       "      <th>Inv-nodes</th>\n",
       "      <th>Node-caps</th>\n",
       "      <th>Deg-Malig</th>\n",
       "      <th>Breast</th>\n",
       "      <th>Breast quad</th>\n",
       "      <th>Irridiat</th>\n",
       "    </tr>\n",
       "  </thead>\n",
       "  <tbody>\n",
       "    <tr>\n",
       "      <th>0</th>\n",
       "      <td>no-recurrence-events</td>\n",
       "      <td>30-39</td>\n",
       "      <td>premeno</td>\n",
       "      <td>30-34</td>\n",
       "      <td>0-2</td>\n",
       "      <td>no</td>\n",
       "      <td>3</td>\n",
       "      <td>left</td>\n",
       "      <td>left_low</td>\n",
       "      <td>no</td>\n",
       "    </tr>\n",
       "    <tr>\n",
       "      <th>1</th>\n",
       "      <td>no-recurrence-events</td>\n",
       "      <td>40-49</td>\n",
       "      <td>premeno</td>\n",
       "      <td>20-24</td>\n",
       "      <td>0-2</td>\n",
       "      <td>no</td>\n",
       "      <td>2</td>\n",
       "      <td>right</td>\n",
       "      <td>right_up</td>\n",
       "      <td>no</td>\n",
       "    </tr>\n",
       "    <tr>\n",
       "      <th>2</th>\n",
       "      <td>no-recurrence-events</td>\n",
       "      <td>40-49</td>\n",
       "      <td>premeno</td>\n",
       "      <td>20-24</td>\n",
       "      <td>0-2</td>\n",
       "      <td>no</td>\n",
       "      <td>2</td>\n",
       "      <td>left</td>\n",
       "      <td>left_low</td>\n",
       "      <td>no</td>\n",
       "    </tr>\n",
       "    <tr>\n",
       "      <th>3</th>\n",
       "      <td>no-recurrence-events</td>\n",
       "      <td>60-69</td>\n",
       "      <td>ge40</td>\n",
       "      <td>15-19</td>\n",
       "      <td>0-2</td>\n",
       "      <td>no</td>\n",
       "      <td>2</td>\n",
       "      <td>right</td>\n",
       "      <td>left_up</td>\n",
       "      <td>no</td>\n",
       "    </tr>\n",
       "    <tr>\n",
       "      <th>4</th>\n",
       "      <td>no-recurrence-events</td>\n",
       "      <td>40-49</td>\n",
       "      <td>premeno</td>\n",
       "      <td>0-4</td>\n",
       "      <td>0-2</td>\n",
       "      <td>no</td>\n",
       "      <td>2</td>\n",
       "      <td>right</td>\n",
       "      <td>right_low</td>\n",
       "      <td>no</td>\n",
       "    </tr>\n",
       "    <tr>\n",
       "      <th>5</th>\n",
       "      <td>no-recurrence-events</td>\n",
       "      <td>60-69</td>\n",
       "      <td>ge40</td>\n",
       "      <td>15-19</td>\n",
       "      <td>0-2</td>\n",
       "      <td>no</td>\n",
       "      <td>2</td>\n",
       "      <td>left</td>\n",
       "      <td>left_low</td>\n",
       "      <td>no</td>\n",
       "    </tr>\n",
       "    <tr>\n",
       "      <th>6</th>\n",
       "      <td>no-recurrence-events</td>\n",
       "      <td>50-59</td>\n",
       "      <td>premeno</td>\n",
       "      <td>25-29</td>\n",
       "      <td>0-2</td>\n",
       "      <td>no</td>\n",
       "      <td>2</td>\n",
       "      <td>left</td>\n",
       "      <td>left_low</td>\n",
       "      <td>no</td>\n",
       "    </tr>\n",
       "    <tr>\n",
       "      <th>7</th>\n",
       "      <td>no-recurrence-events</td>\n",
       "      <td>60-69</td>\n",
       "      <td>ge40</td>\n",
       "      <td>20-24</td>\n",
       "      <td>0-2</td>\n",
       "      <td>no</td>\n",
       "      <td>1</td>\n",
       "      <td>left</td>\n",
       "      <td>left_low</td>\n",
       "      <td>no</td>\n",
       "    </tr>\n",
       "    <tr>\n",
       "      <th>8</th>\n",
       "      <td>no-recurrence-events</td>\n",
       "      <td>40-49</td>\n",
       "      <td>premeno</td>\n",
       "      <td>50-54</td>\n",
       "      <td>0-2</td>\n",
       "      <td>no</td>\n",
       "      <td>2</td>\n",
       "      <td>left</td>\n",
       "      <td>left_low</td>\n",
       "      <td>no</td>\n",
       "    </tr>\n",
       "    <tr>\n",
       "      <th>9</th>\n",
       "      <td>no-recurrence-events</td>\n",
       "      <td>40-49</td>\n",
       "      <td>premeno</td>\n",
       "      <td>20-24</td>\n",
       "      <td>0-2</td>\n",
       "      <td>no</td>\n",
       "      <td>2</td>\n",
       "      <td>right</td>\n",
       "      <td>left_up</td>\n",
       "      <td>no</td>\n",
       "    </tr>\n",
       "  </tbody>\n",
       "</table>\n",
       "</div>"
      ],
      "text/plain": [
       "                  Class    Age Menopause Tumor size Inv-nodes Node-caps  \\\n",
       "0  no-recurrence-events  30-39   premeno      30-34       0-2        no   \n",
       "1  no-recurrence-events  40-49   premeno      20-24       0-2        no   \n",
       "2  no-recurrence-events  40-49   premeno      20-24       0-2        no   \n",
       "3  no-recurrence-events  60-69      ge40      15-19       0-2        no   \n",
       "4  no-recurrence-events  40-49   premeno        0-4       0-2        no   \n",
       "5  no-recurrence-events  60-69      ge40      15-19       0-2        no   \n",
       "6  no-recurrence-events  50-59   premeno      25-29       0-2        no   \n",
       "7  no-recurrence-events  60-69      ge40      20-24       0-2        no   \n",
       "8  no-recurrence-events  40-49   premeno      50-54       0-2        no   \n",
       "9  no-recurrence-events  40-49   premeno      20-24       0-2        no   \n",
       "\n",
       "   Deg-Malig Breast Breast quad Irridiat  \n",
       "0          3   left    left_low       no  \n",
       "1          2  right    right_up       no  \n",
       "2          2   left    left_low       no  \n",
       "3          2  right     left_up       no  \n",
       "4          2  right   right_low       no  \n",
       "5          2   left    left_low       no  \n",
       "6          2   left    left_low       no  \n",
       "7          1   left    left_low       no  \n",
       "8          2   left    left_low       no  \n",
       "9          2  right     left_up       no  "
      ]
     },
     "execution_count": 2,
     "metadata": {},
     "output_type": "execute_result"
    }
   ],
   "source": [
    "df.head(10)"
   ]
  },
  {
   "cell_type": "code",
   "execution_count": 3,
   "id": "3cd82f32",
   "metadata": {},
   "outputs": [
    {
     "data": {
      "text/plain": [
       "Class          object\n",
       "Age            object\n",
       "Menopause      object\n",
       "Tumor size     object\n",
       "Inv-nodes      object\n",
       "Node-caps      object\n",
       "Deg-Malig       int64\n",
       "Breast         object\n",
       "Breast quad    object\n",
       "Irridiat       object\n",
       "dtype: object"
      ]
     },
     "execution_count": 3,
     "metadata": {},
     "output_type": "execute_result"
    }
   ],
   "source": [
    "df.dtypes"
   ]
  },
  {
   "cell_type": "code",
   "execution_count": 87,
   "id": "c7689d09",
   "metadata": {},
   "outputs": [
    {
     "name": "stderr",
     "output_type": "stream",
     "text": [
      "/Library/Frameworks/Python.framework/Versions/3.10/lib/python3.10/site-packages/sklearn/cluster/_kmeans.py:870: FutureWarning: The default value of `n_init` will change from 10 to 'auto' in 1.4. Set the value of `n_init` explicitly to suppress the warning\n",
      "  warnings.warn(\n"
     ]
    },
    {
     "name": "stdout",
     "output_type": "stream",
     "text": [
      "[[50.          2.07291667]\n",
      " [40.          2.06666667]\n",
      " [30.          2.13888889]\n",
      " [60.          1.98245614]\n",
      " [70.          1.5       ]\n",
      " [20.          2.        ]]\n"
     ]
    },
    {
     "data": {
      "image/png": "[encoded data removed]",
      "text/plain": [
       "<Figure size 640x480 with 1 Axes>"
      ]
     },
     "metadata": {},
     "output_type": "display_data"
    },
    {
     "name": "stdout",
     "output_type": "stream",
     "text": [
      "The SSE is 154.16683443581633\n"
     ]
    }
   ],
   "source": [
    "#Using one of the three datasets to demonstrate k-means clustering using the scikit learn package (50 points)\n",
    "df = df.dropna() #Upates the df after dropping all NaN values\n",
    "k_np = df.to_numpy()    #Creates a numpy array out of the df\n",
    "Age = [row[1] for row in k_np]  #Creates an array from the Age column\n",
    "Degree = [row[6] for row in k_np]    #Creates an array from the Deg_Malig column\n",
    "Age = np.char.replace(Age, \"20-29\", \"20\")   #Reformatting data so that it is not in a Age range. These will be labeled in the plot\n",
    "Age = np.char.replace(Age, \"30-39\", \"30\")\n",
    "Age = np.char.replace(Age, \"40-49\", \"40\")\n",
    "Age = np.char.replace(Age, \"50-59\", \"50\")\n",
    "Age = np.char.replace(Age, \"60-69\", \"60\")\n",
    "Age = np.char.replace(Age, \"70-79\", \"70\")\n",
    "Age = Age.astype(int)#Recast data as int\n",
    "X = np.dstack((Age, Degree)).reshape(len(Age), 2)   #Creates a 2d function of the dataset\n",
    "colors = ['b', 'g', 'c', 'y', 'k', 'm']    #colors for the different clusters\n",
    "markers = ['*', 'v', 's', 'P', 'o', 'X']    #markers for the different clusters\n",
    "#print(X)\n",
    "plt.scatter(Age, Degree)     #Creates scatter plot\n",
    "plt.show\n",
    "K = 6    #There are 6 clusters. Because the ranges were reduced to their tens place, there is not variation in the data and points are on top of eachother. Age needs to be disagregated\n",
    "kmeans_model = KMeans(n_clusters=K, random_state = 5).fit(X)    #calculates the \n",
    "#kmeans_model.\n",
    "print(kmeans_model.cluster_centers_)\n",
    "centers = np.array(kmeans_model.cluster_centers_)\n",
    "\n",
    "plt.plot()\n",
    "plt.title('K Means Centroids for Degree of Malignancy by Age')\n",
    "\n",
    "for i, l in enumerate(kmeans_model.labels_):\n",
    "    plt.plot(Age[i], Degree[i], color=colors[l], marker=markers[l])\n",
    "    plt.xlim([10,80])\n",
    "    plt.ylim([0,5])\n",
    "    \n",
    "plt.scatter(centers[:,0], centers[:,1], marker=\"x\", color='r')\n",
    "plt.show()\n",
    "\n",
    "#Calculate the sum of least square error for each different values of 'k'\n",
    "\n",
    "coefs = np.polyfit(Age, Degree, 1)\n",
    "yfit = np.polyval(coefs, Age)\n",
    "SSE = np.sum((Degree-yfit)**2)\n",
    "print('The SSE is', SSE)"
   ]
  },
  {
   "cell_type": "code",
   "execution_count": 83,
   "id": "1de79f75",
   "metadata": {},
   "outputs": [
    {
     "data": {
      "image/png": "[encoded data removed]",
      "text/plain": [
       "<Figure size 640x480 with 1 Axes>"
      ]
     },
     "metadata": {},
     "output_type": "display_data"
    },
    {
     "name": "stdout",
     "output_type": "stream",
     "text": [
      "According the elbow method, there appears to be 3 clusters instead of 6. Because the data are not disaggregated (they came as ranges instead of singular datapoints), it is difficult to determine an accurate cluster but by the ranges, there appear to only be 3 clusters.\n"
     ]
    }
   ],
   "source": [
    "#Using Matplotlib determine the optimal number of clusters (k) using the elbow method along with a brief explanation (50 points)\n",
    "distortions = []\n",
    "for i in range(1,11):\n",
    "    km = KMeans(\n",
    "        n_clusters=i, init='random',\n",
    "        n_init=10, max_iter=300,\n",
    "        tol=1e-04, random_state=0\n",
    "    )\n",
    "    km.fit(X)\n",
    "    distortions.append(km.inertia_)\n",
    "    \n",
    "plt.plot(range(1,11), distortions, marker='o')\n",
    "plt.xlabel('Number of clusters')\n",
    "plt.ylabel('Distortion')\n",
    "plt.show()\n",
    "print('According the elbow method, there appears to be 3 clusters instead of 6. Because the data are not disaggregated (they came as ranges instead of singular datapoints), it is difficult to determine an accurate cluster but by the ranges, there appear to only be 3 clusters.')\n",
    "    "
   ]
  },
  {
   "cell_type": "code",
   "execution_count": 90,
   "id": "39ab3f67",
   "metadata": {},
   "outputs": [
    {
     "name": "stderr",
     "output_type": "stream",
     "text": [
      "/Library/Frameworks/Python.framework/Versions/3.10/lib/python3.10/site-packages/sklearn/cluster/_kmeans.py:870: FutureWarning: The default value of `n_init` will change from 10 to 'auto' in 1.4. Set the value of `n_init` explicitly to suppress the warning\n",
      "  warnings.warn(\n"
     ]
    },
    {
     "name": "stdout",
     "output_type": "stream",
     "text": [
      "[[37.00787402  2.08661417]\n",
      " [60.95238095  1.93650794]\n",
      " [50.          2.07291667]]\n"
     ]
    },
    {
     "data": {
      "image/png": "[encoded data removed]",
      "text/plain": [
       "<Figure size 640x480 with 1 Axes>"
      ]
     },
     "metadata": {},
     "output_type": "display_data"
    },
    {
     "name": "stdout",
     "output_type": "stream",
     "text": [
      "The distribution of K is less varied between the updated centroids. It is fair to say that this clustering is more precise.\n"
     ]
    }
   ],
   "source": [
    "#Finally plot the optimal clusters with their centroids along with a brief explanation (50 points).\n",
    "plt.scatter(Age, Degree)     #Creates scatter plot\n",
    "plt.show\n",
    "K = 3    #3 clusters per the elbow method. Because the ranges were reduced to their tens place, there is not variation in the data and points are on top of eachother. Age needs to be disagregated\n",
    "kmeans_model = KMeans(n_clusters=K, random_state = 5).fit(X)    #calculates the \n",
    "#kmeans_model.\n",
    "print(kmeans_model.cluster_centers_)\n",
    "centers = np.array(kmeans_model.cluster_centers_)\n",
    "\n",
    "plt.plot()\n",
    "plt.title('K Means Centroids for Degree of Malignancy by Age')\n",
    "\n",
    "for i, l in enumerate(kmeans_model.labels_):\n",
    "    plt.plot(Age[i], Degree[i], color=colors[l], marker=markers[l])\n",
    "    plt.xlim([10,80])\n",
    "    plt.ylim([0,5])\n",
    "    \n",
    "plt.scatter(centers[:,0], centers[:,1], marker=\"x\", color='r')\n",
    "plt.show()\n",
    "\n",
    "\n",
    "print('The distribution of K is less varied between the updated centroids. It is fair to say that this clustering is more precise.')"
   ]
  },
  {
   "cell_type": "code",
   "execution_count": null,
   "id": "c38e4903",
   "metadata": {},
   "outputs": [],
   "source": []
  }
 ],
 "metadata": {
  "kernelspec": {
   "display_name": "Python 3 (ipykernel)",
   "language": "python",
   "name": "python3"
  },
  "language_info": {
   "codemirror_mode": {
    "name": "ipython",
    "version": 3
   },
   "file_extension": ".py",
   "mimetype": "text/x-python",
   "name": "python",
   "nbconvert_exporter": "python",
   "pygments_lexer": "ipython3",
   "version": "3.10.6"
  }
 },
 "nbformat": 4,
 "nbformat_minor": 5
}
